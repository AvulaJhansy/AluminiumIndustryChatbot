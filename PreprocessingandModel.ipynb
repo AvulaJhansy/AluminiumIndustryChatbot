{
 "cells": [
  {
   "cell_type": "code",
   "execution_count": 2,
   "metadata": {},
   "outputs": [],
   "source": [
    "import pandas as pd\n",
    "import numpy as np"
   ]
  },
  {
   "cell_type": "code",
   "execution_count": 3,
   "metadata": {},
   "outputs": [
    {
     "data": {
      "text/html": [
       "<div>\n",
       "<style scoped>\n",
       "    .dataframe tbody tr th:only-of-type {\n",
       "        vertical-align: middle;\n",
       "    }\n",
       "\n",
       "    .dataframe tbody tr th {\n",
       "        vertical-align: top;\n",
       "    }\n",
       "\n",
       "    .dataframe thead th {\n",
       "        text-align: right;\n",
       "    }\n",
       "</style>\n",
       "<table border=\"1\" class=\"dataframe\">\n",
       "  <thead>\n",
       "    <tr style=\"text-align: right;\">\n",
       "      <th></th>\n",
       "      <th>Unnamed: 0</th>\n",
       "      <th>Title</th>\n",
       "      <th>Description</th>\n",
       "      <th>Link</th>\n",
       "      <th>Date</th>\n",
       "      <th>Time</th>\n",
       "    </tr>\n",
       "  </thead>\n",
       "  <tbody>\n",
       "    <tr>\n",
       "      <th>0</th>\n",
       "      <td>0</td>\n",
       "      <td>The decline in aluminum prices makes it diffic...</td>\n",
       "      <td>According to SMM data, the comprehensive PMI i...</td>\n",
       "      <td>https://news.metal.com/newscontent/102883178/T...</td>\n",
       "      <td>01-08-2024</td>\n",
       "      <td>13:15</td>\n",
       "    </tr>\n",
       "    <tr>\n",
       "      <th>1</th>\n",
       "      <td>1</td>\n",
       "      <td>Canyon Resources secures mining convention for...</td>\n",
       "      <td>Canyon Resources Limited has formally signed a...</td>\n",
       "      <td>https://news.metal.com/newscontent/102881445/C...</td>\n",
       "      <td>01-08-2024</td>\n",
       "      <td>07:12</td>\n",
       "    </tr>\n",
       "    <tr>\n",
       "      <th>2</th>\n",
       "      <td>2</td>\n",
       "      <td>Aluminum prices surged significantly; wait-and...</td>\n",
       "      <td>Today, SMM A00 spot aluminium prices increased...</td>\n",
       "      <td>https://news.metal.com/newscontent/102883859/A...</td>\n",
       "      <td>01-08-2024</td>\n",
       "      <td>07:12</td>\n",
       "    </tr>\n",
       "    <tr>\n",
       "      <th>3</th>\n",
       "      <td>3</td>\n",
       "      <td>Bauxite-rich Guinea redrafts political landsca...</td>\n",
       "      <td>Guinea's military leadership has introduced a ...</td>\n",
       "      <td>https://news.metal.com/newscontent/102881434/B...</td>\n",
       "      <td>01-08-2024</td>\n",
       "      <td>07:06</td>\n",
       "    </tr>\n",
       "    <tr>\n",
       "      <th>4</th>\n",
       "      <td>4</td>\n",
       "      <td>SMM Morning Comment For SHFE Base Metals On Au...</td>\n",
       "      <td>LME copper opened at $9,126/mt overnight, hitt...</td>\n",
       "      <td>https://news.metal.com/newscontent/102881421/S...</td>\n",
       "      <td>01-08-2024</td>\n",
       "      <td>07:00</td>\n",
       "    </tr>\n",
       "  </tbody>\n",
       "</table>\n",
       "</div>"
      ],
      "text/plain": [
       "   Unnamed: 0                                              Title  \\\n",
       "0           0  The decline in aluminum prices makes it diffic...   \n",
       "1           1  Canyon Resources secures mining convention for...   \n",
       "2           2  Aluminum prices surged significantly; wait-and...   \n",
       "3           3  Bauxite-rich Guinea redrafts political landsca...   \n",
       "4           4  SMM Morning Comment For SHFE Base Metals On Au...   \n",
       "\n",
       "                                         Description  \\\n",
       "0  According to SMM data, the comprehensive PMI i...   \n",
       "1  Canyon Resources Limited has formally signed a...   \n",
       "2  Today, SMM A00 spot aluminium prices increased...   \n",
       "3  Guinea's military leadership has introduced a ...   \n",
       "4  LME copper opened at $9,126/mt overnight, hitt...   \n",
       "\n",
       "                                                Link        Date   Time  \n",
       "0  https://news.metal.com/newscontent/102883178/T...  01-08-2024  13:15  \n",
       "1  https://news.metal.com/newscontent/102881445/C...  01-08-2024  07:12  \n",
       "2  https://news.metal.com/newscontent/102883859/A...  01-08-2024  07:12  \n",
       "3  https://news.metal.com/newscontent/102881434/B...  01-08-2024  07:06  \n",
       "4  https://news.metal.com/newscontent/102881421/S...  01-08-2024  07:00  "
      ]
     },
     "execution_count": 3,
     "metadata": {},
     "output_type": "execute_result"
    }
   ],
   "source": [
    "df = pd.read_csv('C:\\\\Users\\\\Avula Jhansy\\\\Downloads\\\\act2\\\\june17-aug1.csv')\n",
    "df.head()"
   ]
  },
  {
   "cell_type": "code",
   "execution_count": 4,
   "metadata": {},
   "outputs": [
    {
     "data": {
      "text/plain": [
       "(185, 6)"
      ]
     },
     "execution_count": 4,
     "metadata": {},
     "output_type": "execute_result"
    }
   ],
   "source": [
    "df.shape"
   ]
  },
  {
   "cell_type": "code",
   "execution_count": 5,
   "metadata": {},
   "outputs": [
    {
     "data": {
      "text/plain": [
       "Unnamed: 0     0\n",
       "Title          0\n",
       "Description    0\n",
       "Link           0\n",
       "Date           0\n",
       "Time           0\n",
       "dtype: int64"
      ]
     },
     "execution_count": 5,
     "metadata": {},
     "output_type": "execute_result"
    }
   ],
   "source": [
    "df.isnull().sum()"
   ]
  },
  {
   "cell_type": "code",
   "execution_count": 6,
   "metadata": {},
   "outputs": [
    {
     "data": {
      "text/plain": [
       "Unnamed: 0      int64\n",
       "Title          object\n",
       "Description    object\n",
       "Link           object\n",
       "Date           object\n",
       "Time           object\n",
       "dtype: object"
      ]
     },
     "execution_count": 6,
     "metadata": {},
     "output_type": "execute_result"
    }
   ],
   "source": [
    "df.dtypes"
   ]
  },
  {
   "cell_type": "code",
   "execution_count": 7,
   "metadata": {},
   "outputs": [
    {
     "name": "stdout",
     "output_type": "stream",
     "text": [
      "   Unnamed: 0                                              Title  \\\n",
      "0           0  The decline in aluminum prices makes it diffic...   \n",
      "1           1  Canyon Resources secures mining convention for...   \n",
      "2           2  Aluminum prices surged significantly; wait-and...   \n",
      "3           3  Bauxite-rich Guinea redrafts political landsca...   \n",
      "4           4  SMM Morning Comment For SHFE Base Metals On Au...   \n",
      "\n",
      "                                         Description  \\\n",
      "0  According to SMM data, the comprehensive PMI i...   \n",
      "1  Canyon Resources Limited has formally signed a...   \n",
      "2  Today, SMM A00 spot aluminium prices increased...   \n",
      "3  Guinea's military leadership has introduced a ...   \n",
      "4  LME copper opened at $9,126/mt overnight, hitt...   \n",
      "\n",
      "                                                Link        Date      Time  \n",
      "0  https://news.metal.com/newscontent/102883178/T...  2024-08-01  13:15:00  \n",
      "1  https://news.metal.com/newscontent/102881445/C...  2024-08-01  07:12:00  \n",
      "2  https://news.metal.com/newscontent/102883859/A...  2024-08-01  07:12:00  \n",
      "3  https://news.metal.com/newscontent/102881434/B...  2024-08-01  07:06:00  \n",
      "4  https://news.metal.com/newscontent/102881421/S...  2024-08-01  07:00:00  \n"
     ]
    }
   ],
   "source": [
    "df['Date'] = pd.to_datetime(df['Date'], format='%d-%m-%Y').dt.date\n",
    "df['Time'] = pd.to_datetime(df['Time'], format='%H:%M').dt.time\n",
    "print(df.head())\n",
    "df.to_csv('data.csv')\n"
   ]
  },
  {
   "cell_type": "code",
   "execution_count": 27,
   "metadata": {},
   "outputs": [
    {
     "data": {
      "text/html": [
       "<div>\n",
       "<style scoped>\n",
       "    .dataframe tbody tr th:only-of-type {\n",
       "        vertical-align: middle;\n",
       "    }\n",
       "\n",
       "    .dataframe tbody tr th {\n",
       "        vertical-align: top;\n",
       "    }\n",
       "\n",
       "    .dataframe thead th {\n",
       "        text-align: right;\n",
       "    }\n",
       "</style>\n",
       "<table border=\"1\" class=\"dataframe\">\n",
       "  <thead>\n",
       "    <tr style=\"text-align: right;\">\n",
       "      <th></th>\n",
       "      <th>Title</th>\n",
       "      <th>Description</th>\n",
       "      <th>Link</th>\n",
       "      <th>Date</th>\n",
       "      <th>Time</th>\n",
       "    </tr>\n",
       "  </thead>\n",
       "  <tbody>\n",
       "    <tr>\n",
       "      <th>0</th>\n",
       "      <td>The decline in aluminum prices makes it diffic...</td>\n",
       "      <td>According to SMM data, the comprehensive PMI i...</td>\n",
       "      <td>https://news.metal.com/newscontent/102883178/T...</td>\n",
       "      <td>2024-08-01</td>\n",
       "      <td>13:15:00</td>\n",
       "    </tr>\n",
       "    <tr>\n",
       "      <th>1</th>\n",
       "      <td>Canyon Resources secures mining convention for...</td>\n",
       "      <td>Canyon Resources Limited has formally signed a...</td>\n",
       "      <td>https://news.metal.com/newscontent/102881445/C...</td>\n",
       "      <td>2024-08-01</td>\n",
       "      <td>07:12:00</td>\n",
       "    </tr>\n",
       "    <tr>\n",
       "      <th>2</th>\n",
       "      <td>Aluminum prices surged significantly; wait-and...</td>\n",
       "      <td>Today, SMM A00 spot aluminium prices increased...</td>\n",
       "      <td>https://news.metal.com/newscontent/102883859/A...</td>\n",
       "      <td>2024-08-01</td>\n",
       "      <td>07:12:00</td>\n",
       "    </tr>\n",
       "    <tr>\n",
       "      <th>3</th>\n",
       "      <td>Bauxite-rich Guinea redrafts political landsca...</td>\n",
       "      <td>Guinea's military leadership has introduced a ...</td>\n",
       "      <td>https://news.metal.com/newscontent/102881434/B...</td>\n",
       "      <td>2024-08-01</td>\n",
       "      <td>07:06:00</td>\n",
       "    </tr>\n",
       "    <tr>\n",
       "      <th>4</th>\n",
       "      <td>SMM Morning Comment For SHFE Base Metals On Au...</td>\n",
       "      <td>LME copper opened at $9,126/mt overnight, hitt...</td>\n",
       "      <td>https://news.metal.com/newscontent/102881421/S...</td>\n",
       "      <td>2024-08-01</td>\n",
       "      <td>07:00:00</td>\n",
       "    </tr>\n",
       "  </tbody>\n",
       "</table>\n",
       "</div>"
      ],
      "text/plain": [
       "                                               Title  \\\n",
       "0  The decline in aluminum prices makes it diffic...   \n",
       "1  Canyon Resources secures mining convention for...   \n",
       "2  Aluminum prices surged significantly; wait-and...   \n",
       "3  Bauxite-rich Guinea redrafts political landsca...   \n",
       "4  SMM Morning Comment For SHFE Base Metals On Au...   \n",
       "\n",
       "                                         Description  \\\n",
       "0  According to SMM data, the comprehensive PMI i...   \n",
       "1  Canyon Resources Limited has formally signed a...   \n",
       "2  Today, SMM A00 spot aluminium prices increased...   \n",
       "3  Guinea's military leadership has introduced a ...   \n",
       "4  LME copper opened at $9,126/mt overnight, hitt...   \n",
       "\n",
       "                                                Link        Date      Time  \n",
       "0  https://news.metal.com/newscontent/102883178/T...  2024-08-01  13:15:00  \n",
       "1  https://news.metal.com/newscontent/102881445/C...  2024-08-01  07:12:00  \n",
       "2  https://news.metal.com/newscontent/102883859/A...  2024-08-01  07:12:00  \n",
       "3  https://news.metal.com/newscontent/102881434/B...  2024-08-01  07:06:00  \n",
       "4  https://news.metal.com/newscontent/102881421/S...  2024-08-01  07:00:00  "
      ]
     },
     "execution_count": 27,
     "metadata": {},
     "output_type": "execute_result"
    }
   ],
   "source": [
    "df.head()"
   ]
  },
  {
   "cell_type": "code",
   "execution_count": 26,
   "metadata": {},
   "outputs": [],
   "source": [
    "df = df.drop(columns=['Unnamed: 0'])"
   ]
  },
  {
   "cell_type": "code",
   "execution_count": 28,
   "metadata": {},
   "outputs": [
    {
     "name": "stdout",
     "output_type": "stream",
     "text": [
      "Empty DataFrame\n",
      "Columns: [Title, Description, Link, Date, Time]\n",
      "Index: []\n"
     ]
    }
   ],
   "source": [
    "duplicates = df[df.duplicated()]\n",
    "print(duplicates)"
   ]
  },
  {
   "cell_type": "code",
   "execution_count": 31,
   "metadata": {},
   "outputs": [
    {
     "name": "stderr",
     "output_type": "stream",
     "text": [
      "[nltk_data] Downloading package punkt to C:\\Users\\Avula\n",
      "[nltk_data]     Jhansy\\AppData\\Roaming\\nltk_data...\n",
      "[nltk_data]   Package punkt is already up-to-date!\n",
      "[nltk_data] Downloading package stopwords to C:\\Users\\Avula\n",
      "[nltk_data]     Jhansy\\AppData\\Roaming\\nltk_data...\n",
      "[nltk_data]   Package stopwords is already up-to-date!\n"
     ]
    },
    {
     "data": {
      "text/html": [
       "<div>\n",
       "<style scoped>\n",
       "    .dataframe tbody tr th:only-of-type {\n",
       "        vertical-align: middle;\n",
       "    }\n",
       "\n",
       "    .dataframe tbody tr th {\n",
       "        vertical-align: top;\n",
       "    }\n",
       "\n",
       "    .dataframe thead th {\n",
       "        text-align: right;\n",
       "    }\n",
       "</style>\n",
       "<table border=\"1\" class=\"dataframe\">\n",
       "  <thead>\n",
       "    <tr style=\"text-align: right;\">\n",
       "      <th></th>\n",
       "      <th>Title</th>\n",
       "      <th>Description</th>\n",
       "      <th>Link</th>\n",
       "      <th>Date and Time</th>\n",
       "    </tr>\n",
       "  </thead>\n",
       "  <tbody>\n",
       "    <tr>\n",
       "      <th>0</th>\n",
       "      <td>[declin, aluminum, price, make, difficult, dri...</td>\n",
       "      <td>[accord, smm, data, comprehens, pmi, index, do...</td>\n",
       "      <td>https://news.metal.com/newscontent/102883178/T...</td>\n",
       "      <td>Aug 1, 2024 13:15</td>\n",
       "    </tr>\n",
       "    <tr>\n",
       "      <th>1</th>\n",
       "      <td>[canyon, resourc, secur, mine, convent, minimm...</td>\n",
       "      <td>[canyon, resourc, limit, formal, sign, mine, c...</td>\n",
       "      <td>https://news.metal.com/newscontent/102881445/C...</td>\n",
       "      <td>Aug 1, 2024 07:12</td>\n",
       "    </tr>\n",
       "    <tr>\n",
       "      <th>2</th>\n",
       "      <td>[aluminum, price, surg, significantli, waitand...</td>\n",
       "      <td>[today, smm, a00, spot, aluminium, price, incr...</td>\n",
       "      <td>https://news.metal.com/newscontent/102883859/A...</td>\n",
       "      <td>Aug 1, 2024 07:12</td>\n",
       "    </tr>\n",
       "    <tr>\n",
       "      <th>3</th>\n",
       "      <td>[bauxiterich, guinea, redraft, polit, landscap...</td>\n",
       "      <td>[guinea, militari, leadership, introduc, draft...</td>\n",
       "      <td>https://news.metal.com/newscontent/102881434/B...</td>\n",
       "      <td>Aug 1, 2024 07:06</td>\n",
       "    </tr>\n",
       "    <tr>\n",
       "      <th>4</th>\n",
       "      <td>[smm, morn, comment, shfe, base, metal, august...</td>\n",
       "      <td>[lme, copper, open, 9126mt, overnight, hit, se...</td>\n",
       "      <td>https://news.metal.com/newscontent/102881421/S...</td>\n",
       "      <td>Aug 1, 2024 07:00</td>\n",
       "    </tr>\n",
       "  </tbody>\n",
       "</table>\n",
       "</div>"
      ],
      "text/plain": [
       "                                               Title  \\\n",
       "0  [declin, aluminum, price, make, difficult, dri...   \n",
       "1  [canyon, resourc, secur, mine, convent, minimm...   \n",
       "2  [aluminum, price, surg, significantli, waitand...   \n",
       "3  [bauxiterich, guinea, redraft, polit, landscap...   \n",
       "4  [smm, morn, comment, shfe, base, metal, august...   \n",
       "\n",
       "                                         Description  \\\n",
       "0  [accord, smm, data, comprehens, pmi, index, do...   \n",
       "1  [canyon, resourc, limit, formal, sign, mine, c...   \n",
       "2  [today, smm, a00, spot, aluminium, price, incr...   \n",
       "3  [guinea, militari, leadership, introduc, draft...   \n",
       "4  [lme, copper, open, 9126mt, overnight, hit, se...   \n",
       "\n",
       "                                                Link      Date and Time  \n",
       "0  https://news.metal.com/newscontent/102883178/T...  Aug 1, 2024 13:15  \n",
       "1  https://news.metal.com/newscontent/102881445/C...  Aug 1, 2024 07:12  \n",
       "2  https://news.metal.com/newscontent/102883859/A...  Aug 1, 2024 07:12  \n",
       "3  https://news.metal.com/newscontent/102881434/B...  Aug 1, 2024 07:06  \n",
       "4  https://news.metal.com/newscontent/102881421/S...  Aug 1, 2024 07:00  "
      ]
     },
     "execution_count": 31,
     "metadata": {},
     "output_type": "execute_result"
    }
   ],
   "source": [
    "import pandas as pd\n",
    "import re\n",
    "from datetime import datetime\n",
    "from nltk.tokenize import word_tokenize\n",
    "from nltk.corpus import stopwords\n",
    "from nltk.stem import PorterStemmer\n",
    "import nltk\n",
    "nltk.download('punkt')\n",
    "nltk.download('stopwords')\n",
    "# Function to clean text\n",
    "def clean_text(text):\n",
    "    # Remove extra whitespace\n",
    "    text = ' '.join(text.split())\n",
    "    # Remove punctuation\n",
    "    text = re.sub(r'[^\\w\\s]', '', text)\n",
    "    \n",
    "    return text\n",
    "def normalize_text(text):\n",
    "    text = text.lower()  # Convert to lowercase\n",
    "    tokens = word_tokenize(text)  # Tokenization\n",
    "    return tokens\n",
    "\n",
    "# Function to remove stop words\n",
    "def remove_stop_words(tokens):\n",
    "    stop_words = set(stopwords.words('english'))\n",
    "    return [word for word in tokens if word not in stop_words]\n",
    "\n",
    "# Function to stem words\n",
    "def stem_words(tokens):\n",
    "    stemmer = PorterStemmer()\n",
    "    return [stemmer.stem(word) for word in tokens]\n",
    "\n",
    "df['Title'] = df['Title'].apply(clean_text).apply(normalize_text).apply(remove_stop_words).apply(stem_words)\n",
    "df['Description'] = df['Description'].apply(clean_text).apply(normalize_text).apply(remove_stop_words).apply(stem_words)\n",
    "\n",
    "\n",
    "df.head()\n"
   ]
  },
  {
   "cell_type": "code",
   "execution_count": 40,
   "metadata": {},
   "outputs": [
    {
     "name": "stdout",
     "output_type": "stream",
     "text": [
      "Embeddings saved to 'embeddings.json'.\n"
     ]
    }
   ],
   "source": [
    "import requests\n",
    "import json\n",
    "import openai\n",
    "import pandas as pd\n",
    "\n",
    "email = \"avulajhansy6@gmail.com\"\n",
    "\n",
    "# Retrieve API key\n",
    "response = requests.post(\"http://52.66.239.27:8504/get_keys\", json={\"email\": email})\n",
    "response_json = response.json()\n",
    "api_key = response_json.get('key')\n",
    "\n",
    "# Set OpenAI API key\n",
    "openai.api_key = api_key\n",
    "\n",
    "\n",
    "def get_embeddings(text):\n",
    "    response = openai.Embedding.create(\n",
    "        input=[text],\n",
    "        model=\"text-embedding-ada-002\"\n",
    "    )\n",
    "    return response['data'][0]['embedding']\n",
    "\n",
    "# Convert the data to embeddings\n",
    "embeddings = []\n",
    "for index, row in df.iterrows():\n",
    "    title_text = row['Title']\n",
    "    description_text = row['Description']\n",
    "    \n",
    "    title_embedding = get_embeddings(title_text)\n",
    "    description_embedding = get_embeddings(description_text)\n",
    "    \n",
    "    embeddings.append({\n",
    "        \"Title\": row['Title'],\n",
    "        \"Description\": row['Description'],\n",
    "        \"Link\": row['Link'],\n",
    "        \"Date and Time\": row['Date and Time'],\n",
    "        \"Title_Embedding\": title_embedding,\n",
    "        \"Description_Embedding\": description_embedding\n",
    "    })\n",
    "\n",
    "# Save embeddings to a JSON file\n",
    "with open('embeddings.json', 'w') as f:\n",
    "    json.dump(embeddings, f, indent=2)\n",
    "\n",
    "print(\"Embeddings saved to 'embeddings.json'.\")\n"
   ]
  },
  {
   "cell_type": "code",
   "execution_count": 41,
   "metadata": {},
   "outputs": [
    {
     "name": "stdout",
     "output_type": "stream",
     "text": [
      "FAISS index created and saved as 'faiss_index.index'.\n"
     ]
    }
   ],
   "source": [
    "import faiss\n",
    "import numpy as np\n",
    "import json\n",
    "\n",
    "# Load embeddings from JSON file\n",
    "with open('embeddings.json', 'r') as f:\n",
    "    data = json.load(f)\n",
    "\n",
    "# Extract Title_Embedding and Description_Embedding, and concatenate them\n",
    "def parse_embedding(embedding_list):\n",
    "    return np.array(embedding_list).astype('float32')\n",
    "\n",
    "title_embeddings = np.array([parse_embedding(entry['Title_Embedding']) for entry in data])\n",
    "description_embeddings = np.array([parse_embedding(entry['Description_Embedding']) for entry in data])\n",
    "\n",
    "# Combine title and description embeddings (concatenate along the last axis)\n",
    "embeddings = np.concatenate((title_embeddings, description_embeddings), axis=1)\n",
    "\n",
    "# Create a FAISS index\n",
    "dimension = embeddings.shape[1]  # Total dimensions after concatenation\n",
    "index = faiss.IndexFlatL2(dimension)  # L2 distance\n",
    "\n",
    "# Add embeddings to the index\n",
    "index.add(embeddings)\n",
    "\n",
    "# Save the index to a file\n",
    "faiss.write_index(index, 'faiss_index.index')\n",
    "\n",
    "print(\"FAISS index created and saved as 'faiss_index.index'.\")\n"
   ]
  }
 ],
 "metadata": {
  "kernelspec": {
   "display_name": "Python 3 (ipykernel)",
   "language": "python",
   "name": "python3"
  },
  "language_info": {
   "codemirror_mode": {
    "name": "ipython",
    "version": 3
   },
   "file_extension": ".py",
   "mimetype": "text/x-python",
   "name": "python",
   "nbconvert_exporter": "python",
   "pygments_lexer": "ipython3",
   "version": "3.11.5"
  }
 },
 "nbformat": 4,
 "nbformat_minor": 2
}
